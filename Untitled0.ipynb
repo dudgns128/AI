{
  "nbformat": 4,
  "nbformat_minor": 0,
  "metadata": {
    "colab": {
      "provenance": []
    },
    "kernelspec": {
      "name": "python3",
      "display_name": "Python 3"
    },
    "language_info": {
      "name": "python"
    }
  },
  "cells": [
    {
      "cell_type": "code",
      "execution_count": 1,
      "metadata": {
        "colab": {
          "base_uri": "https://localhost:8080/"
        },
        "id": "h0bMrw14GY8P",
        "outputId": "cbe2956f-132e-4729-d4a3-3b3e1c03f10f"
      },
      "outputs": [
        {
          "output_type": "stream",
          "name": "stdout",
          "text": [
            "/content\n"
          ]
        }
      ],
      "source": [
        "!pwd"
      ]
    },
    {
      "cell_type": "code",
      "source": [
        "from google.colab import drive\n",
        "drive.mount('/content/drive')"
      ],
      "metadata": {
        "colab": {
          "base_uri": "https://localhost:8080/"
        },
        "id": "3zyydi3RHQAF",
        "outputId": "ff9fc718-010b-4c0e-a8c5-74f798abbf1f"
      },
      "execution_count": 1,
      "outputs": [
        {
          "output_type": "stream",
          "name": "stdout",
          "text": [
            "Mounted at /content/drive\n"
          ]
        }
      ]
    },
    {
      "cell_type": "code",
      "source": [
        "import os\n",
        "\n",
        "imgPath = '/content/drive/MyDrive/[23년]경북대_중급/1_python/test1'\n",
        "subdir = os.listdir(imgPath)\n",
        "subdir"
      ],
      "metadata": {
        "colab": {
          "base_uri": "https://localhost:8080/"
        },
        "id": "LfHcyLslHi6j",
        "outputId": "3240f94c-9082-4bbe-9dbe-a947ffe508cb"
      },
      "execution_count": 6,
      "outputs": [
        {
          "output_type": "execute_result",
          "data": {
            "text/plain": [
              "['dogs', 'cats']"
            ]
          },
          "metadata": {},
          "execution_count": 6
        }
      ]
    },
    {
      "cell_type": "code",
      "source": [
        "dogsPath = os.path.join(imgPath, subdir[0])     #path 관련해서 추가적으로 문자열 생성성\n",
        "print(dogsPath)"
      ],
      "metadata": {
        "colab": {
          "base_uri": "https://localhost:8080/"
        },
        "id": "yX6jJ4xpH1-M",
        "outputId": "aa642a7a-5fd2-457b-da8c-7514a1937b9a"
      },
      "execution_count": 11,
      "outputs": [
        {
          "output_type": "stream",
          "name": "stdout",
          "text": [
            "/content/drive/MyDrive/[23년]경북대_중급/1_python/test1/dogs\n"
          ]
        }
      ]
    },
    {
      "cell_type": "code",
      "source": [
        "dogList = os.listdir(dogsPath)\n",
        "dogList"
      ],
      "metadata": {
        "colab": {
          "base_uri": "https://localhost:8080/"
        },
        "id": "KIZbrcTuI0Na",
        "outputId": "24834072-4ec9-4321-90f0-8716429af53b"
      },
      "execution_count": 10,
      "outputs": [
        {
          "output_type": "execute_result",
          "data": {
            "text/plain": [
              "['12.jpg', '23.jpg', '3.jpg', '2.jpg', '4.jpg', '1.jpg']"
            ]
          },
          "metadata": {},
          "execution_count": 10
        }
      ]
    },
    {
      "cell_type": "code",
      "source": [
        "for name in dogList:\n",
        "  print(name)"
      ],
      "metadata": {
        "colab": {
          "base_uri": "https://localhost:8080/"
        },
        "id": "lOMa-sKsJbBW",
        "outputId": "ebf01115-a707-4e18-8c19-372fad79c4e3"
      },
      "execution_count": 15,
      "outputs": [
        {
          "output_type": "stream",
          "name": "stdout",
          "text": [
            "12.jpg\n",
            "23.jpg\n",
            "3.jpg\n",
            "2.jpg\n",
            "4.jpg\n",
            "1.jpg\n"
          ]
        }
      ]
    },
    {
      "cell_type": "code",
      "source": [
        "for name in dogList:\n",
        "  fileName = os.path.splitext(name) #파일확장자로 분리\n",
        "  print(fileName) #튜플로 반환"
      ],
      "metadata": {
        "colab": {
          "base_uri": "https://localhost:8080/"
        },
        "id": "GfY3qt0fJgVX",
        "outputId": "b2932454-1308-4e24-b602-8058627e25be"
      },
      "execution_count": 17,
      "outputs": [
        {
          "output_type": "stream",
          "name": "stdout",
          "text": [
            "('12', '.jpg')\n",
            "('23', '.jpg')\n",
            "('3', '.jpg')\n",
            "('2', '.jpg')\n",
            "('4', '.jpg')\n",
            "('1', '.jpg')\n"
          ]
        }
      ]
    },
    {
      "cell_type": "code",
      "source": [
        "i=0\n",
        "for name in dogList:\n",
        "  fileName = os.path.splitext(name) #파일확장자로 분리\n",
        "  rename = 'dog' + str(i) + fileName[1]\n",
        "  i=i+1\n",
        "  print(rename)\n",
        "  os.rename(os.path.join(dogsPath, name), os.path.join(dogsPath, rename))"
      ],
      "metadata": {
        "colab": {
          "base_uri": "https://localhost:8080/",
          "height": 229
        },
        "id": "uuu704jzKH83",
        "outputId": "8c02c8e3-a3d1-494a-f22e-a7885c8945bb"
      },
      "execution_count": 27,
      "outputs": [
        {
          "output_type": "error",
          "ename": "FileNotFoundError",
          "evalue": "ignored",
          "traceback": [
            "\u001b[0;31m---------------------------------------------------------------------------\u001b[0m",
            "\u001b[0;31mFileNotFoundError\u001b[0m                         Traceback (most recent call last)",
            "\u001b[0;32m<ipython-input-27-9532cbaa7bad>\u001b[0m in \u001b[0;36m<module>\u001b[0;34m\u001b[0m\n\u001b[1;32m      4\u001b[0m   \u001b[0mrename\u001b[0m \u001b[0;34m=\u001b[0m \u001b[0;34m'dog'\u001b[0m \u001b[0;34m+\u001b[0m \u001b[0mstr\u001b[0m\u001b[0;34m(\u001b[0m\u001b[0mi\u001b[0m\u001b[0;34m)\u001b[0m \u001b[0;34m+\u001b[0m \u001b[0mfileName\u001b[0m\u001b[0;34m[\u001b[0m\u001b[0;36m1\u001b[0m\u001b[0;34m]\u001b[0m\u001b[0;34m\u001b[0m\u001b[0;34m\u001b[0m\u001b[0m\n\u001b[1;32m      5\u001b[0m   \u001b[0mi\u001b[0m\u001b[0;34m=\u001b[0m\u001b[0mi\u001b[0m\u001b[0;34m+\u001b[0m\u001b[0;36m1\u001b[0m\u001b[0;34m\u001b[0m\u001b[0;34m\u001b[0m\u001b[0m\n\u001b[0;32m----> 6\u001b[0;31m   \u001b[0mos\u001b[0m\u001b[0;34m.\u001b[0m\u001b[0mrename\u001b[0m\u001b[0;34m(\u001b[0m\u001b[0mos\u001b[0m\u001b[0;34m.\u001b[0m\u001b[0mpath\u001b[0m\u001b[0;34m.\u001b[0m\u001b[0mjoin\u001b[0m\u001b[0;34m(\u001b[0m\u001b[0mdogsPath\u001b[0m\u001b[0;34m,\u001b[0m \u001b[0mname\u001b[0m\u001b[0;34m)\u001b[0m\u001b[0;34m,\u001b[0m \u001b[0mos\u001b[0m\u001b[0;34m.\u001b[0m\u001b[0mpath\u001b[0m\u001b[0;34m.\u001b[0m\u001b[0mjoin\u001b[0m\u001b[0;34m(\u001b[0m\u001b[0mdogsPath\u001b[0m\u001b[0;34m,\u001b[0m \u001b[0mrename\u001b[0m\u001b[0;34m)\u001b[0m\u001b[0;34m)\u001b[0m\u001b[0;34m\u001b[0m\u001b[0;34m\u001b[0m\u001b[0m\n\u001b[0m\u001b[1;32m      7\u001b[0m   \u001b[0mprint\u001b[0m\u001b[0;34m(\u001b[0m\u001b[0mrename\u001b[0m\u001b[0;34m)\u001b[0m\u001b[0;34m\u001b[0m\u001b[0;34m\u001b[0m\u001b[0m\n",
            "\u001b[0;31mFileNotFoundError\u001b[0m: [Errno 2] No such file or directory: '/content/drive/MyDrive/[23년]경북대_중급/1_python/test1/dogs/12.jpg' -> '/content/drive/MyDrive/[23년]경북대_중급/1_python/test1/dogs/dog0.jpg'"
          ]
        }
      ]
    },
    {
      "cell_type": "code",
      "source": [
        "os.listdir(dogsPath)"
      ],
      "metadata": {
        "colab": {
          "base_uri": "https://localhost:8080/"
        },
        "id": "FWp2XDkZL1rW",
        "outputId": "3afac6d8-e2be-4039-edb2-2513927aa92b"
      },
      "execution_count": 28,
      "outputs": [
        {
          "output_type": "execute_result",
          "data": {
            "text/plain": [
              "['dog0.jpg', 'dog1.jpg', 'dog2.jpg', 'dog3.jpg', 'dog4.jpg', 'dog5.jpg']"
            ]
          },
          "metadata": {},
          "execution_count": 28
        }
      ]
    },
    {
      "cell_type": "code",
      "source": [
        "catsPath = os.path.join(imgPath, subdir[1])\n",
        "catList = os.listdir(catsPath)\n",
        "i=0\n",
        "for name in catList:\n",
        "  fileName = os.path.splitext(name)\n",
        "  rename = 'cat' + str(i) + fileName[1]\n",
        "  i=i+1\n",
        "  print(rename)\n",
        "  os.rename(os.path.join(catsPath, name), os.path.join(catsPath, rename))"
      ],
      "metadata": {
        "colab": {
          "base_uri": "https://localhost:8080/"
        },
        "id": "0motGS8NMcJ3",
        "outputId": "83951570-f7fa-4e8b-d8ae-5c48f8aac8da"
      },
      "execution_count": 29,
      "outputs": [
        {
          "output_type": "stream",
          "name": "stdout",
          "text": [
            "cat0.jpg\n",
            "cat1.jpg\n",
            "cat2.jpg\n",
            "cat3.jpg\n",
            "cat4.jpg\n",
            "cat5.jpg\n",
            "cat6.jpg\n",
            "cat7.jpg\n"
          ]
        }
      ]
    },
    {
      "cell_type": "code",
      "source": [
        "os.listdir(catsPath)"
      ],
      "metadata": {
        "colab": {
          "base_uri": "https://localhost:8080/"
        },
        "id": "uZpIYrfTNE-P",
        "outputId": "b1d494f3-f12c-4c24-f769-12a7921ca880"
      },
      "execution_count": 30,
      "outputs": [
        {
          "output_type": "execute_result",
          "data": {
            "text/plain": [
              "['cat0.jpg',\n",
              " 'cat1.jpg',\n",
              " 'cat2.jpg',\n",
              " 'cat3.jpg',\n",
              " 'cat4.jpg',\n",
              " 'cat5.jpg',\n",
              " 'cat6.jpg',\n",
              " 'cat7.jpg']"
            ]
          },
          "metadata": {},
          "execution_count": 30
        }
      ]
    }
  ]
}